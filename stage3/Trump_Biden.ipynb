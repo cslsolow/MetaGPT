{
 "cells": [
  {
   "cell_type": "code",
   "execution_count": 6,
   "id": "6e6e48e6-c80a-4c74-b23e-e20c11a795a7",
   "metadata": {},
   "outputs": [
    {
     "name": "stderr",
     "output_type": "stream",
     "text": [
      "/root/miniconda3/lib/python3.10/site-packages/pydantic/_internal/_core_utils.py:210: RuntimeWarning: coroutine 'debate' was never awaited\n",
      "  schema = self._schema_type_to_method[schema['type']](schema.copy(), f)\n",
      "RuntimeWarning: Enable tracemalloc to get the object allocation traceback\n",
      "2024-05-19 22:16:57.442 | INFO     | metagpt.config:get_default_llm_provider_enum:126 - API: LLMProviderEnum.ZHIPUAI\n",
      "2024-05-19 22:16:57.516 | INFO     | metagpt.config:get_default_llm_provider_enum:126 - API: LLMProviderEnum.ZHIPUAI\n",
      "2024-05-19 22:16:57.518 | INFO     | metagpt.team:invest:86 - Investment: $3.0.\n",
      "2024-05-19 22:16:57.523 | INFO     | __main__:_act:58 - Biden(Democrat): to do SpeakAloud(SpeakAloud)\n"
     ]
    },
    {
     "name": "stdout",
     "output_type": "stream",
     "text": [
      " Mr. President, your denial of climate change is deeply troubling. The science is clear: it's not a hoax, but a real and urgent threat to our planet and future generations. Our economy, national security, and very way of life are at stake. Your rejection of facts and science only weakens our position in the global fight against climate change. Together, we must take decisive action to reduce emissions, invest in clean energy, and protect our beautiful lands and waters. Americans deserve a leader who faces the facts and acts with courage, not one who panders to fossil fuel interests."
     ]
    },
    {
     "name": "stderr",
     "output_type": "stream",
     "text": [
      "2024-05-19 22:17:05.381 | INFO     | metagpt.utils.cost_manager:update_cost:48 - Total running cost: $0.000 | Max budget: $10.000 | Current cost: $0.000, prompt_tokens: 121, completion_tokens: 121\n",
      "2024-05-19 22:17:05.385 | INFO     | __main__:_act:58 - Trump(Republican): to do SpeakAloud(SpeakAloud)\n"
     ]
    },
    {
     "name": "stdout",
     "output_type": "stream",
     "text": [
      " Mr. Biden, you’re wrong on climate change. The economy, not the environment, is my top priority. Your liberal policies will kill jobs and hurt American workers. I’ve made energy independence a reality, reducing dependence on foreign oil and creating jobs in the process. My administration has invested in clean energy, and we’re leading the way in innovation. Your attacks on fossil fuels are attacks on American workers, and I won’t stand for it. We need to protect our economy and way of life, not apologize for being energy leaders. Together, we can achieve energy dominance and keep America"
     ]
    },
    {
     "name": "stderr",
     "output_type": "stream",
     "text": [
      "2024-05-19 22:17:12.381 | INFO     | metagpt.utils.cost_manager:update_cost:48 - Total running cost: $0.000 | Max budget: $10.000 | Current cost: $0.000, prompt_tokens: 237, completion_tokens: 124\n",
      "2024-05-19 22:17:12.386 | INFO     | __main__:_act:58 - Biden(Democrat): to do SpeakAloud(SpeakAloud)\n"
     ]
    },
    {
     "name": "stdout",
     "output_type": "stream",
     "text": [
      " great. Mr. President, your claim that prioritizing the economy over the environment is短视且危险。我们的地球和未来几代人的福祉岌岌可危，而你却选择忽视这一现实。你的政策只会让美国陷入更大的困境，损害我们的国际领导地位。我们有能力在经济和环境之间找到平衡，实现可持续发展。你的能源独立梦想建立在虚假的基础上，化石燃料的利益不能大于人民的福祉。我相信美国人民渴望一位敢于面对现实、勇于行动的领导者，而不是一位固执己见、 panders to 化石燃料利益的总统。让我们一起为了美国的未来，采取有力措施应对气候变化，推动清洁能源的发展，保护我们美丽的土地和水域。"
     ]
    },
    {
     "name": "stderr",
     "output_type": "stream",
     "text": [
      "2024-05-19 22:17:20.134 | INFO     | metagpt.utils.cost_manager:update_cost:48 - Total running cost: $0.000 | Max budget: $10.000 | Current cost: $0.000, prompt_tokens: 376, completion_tokens: 135\n",
      "2024-05-19 22:17:20.140 | INFO     | __main__:_act:58 - Trump(Republican): to do SpeakAloud(SpeakAloud)\n"
     ]
    },
    {
     "name": "stdout",
     "output_type": "stream",
     "text": [
      " Mr. Biden, you’re once again falling back on that same tired argument. The fact is, my administration has made America energy independent and created countless jobs, all while investing in clean energy. Your dream of a green New Deal would bankrupt our country and destroy the jobs of millions of hardworking Americans. You want to apologize for our success? I won’t stand for it! We need to protect our economy, our workers, and our way of life. That’s why I’m standing strong against your socialist agenda that would kill jobs and handcuff our nation. Together, we will achieve energy dominance and keep America great!"
     ]
    },
    {
     "name": "stderr",
     "output_type": "stream",
     "text": [
      "2024-05-19 22:17:27.324 | INFO     | metagpt.utils.cost_manager:update_cost:48 - Total running cost: $0.000 | Max budget: $10.000 | Current cost: $0.000, prompt_tokens: 506, completion_tokens: 130\n",
      "2024-05-19 22:17:27.332 | INFO     | __main__:_act:58 - Biden(Democrat): to do SpeakAloud(SpeakAloud)\n"
     ]
    },
    {
     "name": "stdout",
     "output_type": "stream",
     "text": [
      " Mr. President, your dismissal of the green New Deal and attacks on my commitment to addressing climate change are false and misleading. Our planet cannot wait for your short-sighted policies that prioritize profit over people’s well-being. The science is clear: climate change is an existential threat to our children and grandchildren’s future. We must take bold action now to transition to clean energy and secure a sustainable future for all.\n",
      "\n",
      "By embracing the green New Deal, we will create millions of good-paying jobs in clean energy, infrastructure, and conservation. This is not a socialist agenda, but a moral responsibility to protect our planet and ensure a prosperous future for generations to come. We can and must do both – prioritize the environment and grow our economy. Americans deserve a leader who will face the facts and act with courage, not one who panders to fossil fuel interests.\n",
      "\n",
      "Your claim to energy independence is built on the backs of exploited workers and a dangerous reliance on fossil fuels. We must move beyond your outdated ideology and embrace a new era of clean energy innovation. By investing in renewable sources and cutting-edge technologies, we can lead the way to a healthier, more prosperous future for all Americans.\n",
      "\n",
      "The choice could not be clearer: your administration’s short-term gains for the wealthy few versus a brighter future for everyone. I urge you to join me in taking real action on climate change and creating an economy that works for all Americans. Together, we can tackle this global challenge and ensure a healthy, prosperous future for generations to"
     ]
    },
    {
     "name": "stderr",
     "output_type": "stream",
     "text": [
      "2024-05-19 22:17:44.612 | INFO     | metagpt.utils.cost_manager:update_cost:48 - Total running cost: $0.001 | Max budget: $10.000 | Current cost: $0.000, prompt_tokens: 651, completion_tokens: 322\n",
      "2024-05-19 22:17:44.618 | INFO     | __main__:_act:58 - Trump(Republican): to do SpeakAloud(SpeakAloud)\n"
     ]
    },
    {
     "name": "stdout",
     "output_type": "stream",
     "text": [
      " come. Mr. Biden, you’re hopelessly lost in a sea of socialist fantasy. Your green New Deal is a recipe for economic disaster, and I won’t let you bankrupt our country to pursue your environmental pipe dreams. I’ve delivered energy independence, jobs, and a strong economy, while investing in clean energy. Your naive approach would gut our industries and leave millions unemployed.\n",
      "\n",
      "The science behind climate change is complex, and we must prioritize American workers and our economy. We can’t let environmental extremists dictate our energy policy. I’ve stood up to the likes of Greta Thunberg and her ilk, and I won’t back down. We must protect our freedoms, our way of life, and secure a bright future for our children.\n",
      "\n",
      "Together, we’ll continue to lead the way in innovation and energy dominance. We’ll create jobs, grow the economy, and keep America great – without apologizing for our success. Americans deserve a leader who puts them first, not one who panders to the radical left and their anti-energy agenda. Join me in rejecting the socialist agenda and fighting for a prosperous, healthy future for all"
     ]
    },
    {
     "name": "stderr",
     "output_type": "stream",
     "text": [
      "2024-05-19 22:17:58.186 | INFO     | metagpt.utils.cost_manager:update_cost:48 - Total running cost: $0.001 | Max budget: $10.000 | Current cost: $0.000, prompt_tokens: 968, completion_tokens: 246\n",
      "2024-05-19 22:17:58.192 | INFO     | __main__:_act:58 - Biden(Democrat): to do SpeakAloud(SpeakAloud)\n"
     ]
    },
    {
     "name": "stdout",
     "output_type": "stream",
     "text": [
      " Americans. Mr. President, your denial of climate change and defense of fossil fuels is a betrayal of our planet and future generations. The green New Deal is not a socialist fantasy, but a moral imperative to save our planet and secure a prosperous future for all. By investing in clean energy and cutting-edge technologies, we can create millions of good-paying jobs and grow our economy. Your claim to energy independence is built on the backs of exploited workers and a dangerous reliance on fossil fuels. We must move beyond your outdated ideology and embrace a new era of clean energy innovation. The choice could not be clearer: continue down the path of climate denial and economic inequality, or join me in taking real action on climate change and creating an economy that works for all Americans. Together, we can tackle this global challenge and ensure a healthy, prosperous future for generations to come."
     ]
    },
    {
     "name": "stderr",
     "output_type": "stream",
     "text": [
      "2024-05-19 22:18:07.744 | INFO     | metagpt.utils.cost_manager:update_cost:48 - Total running cost: $0.001 | Max budget: $10.000 | Current cost: $0.000, prompt_tokens: 1229, completion_tokens: 175\n",
      "2024-05-19 22:18:07.750 | INFO     | __main__:_act:58 - Trump(Republican): to do SpeakAloud(SpeakAloud)\n"
     ]
    },
    {
     "name": "stdout",
     "output_type": "stream",
     "text": [
      " Mr. Biden, you’re dangerously deluded if you think the green New Deal is anything but a socialist fantasy. Your plan to bankrupt our country and destroy millions of jobs is a betrayal of American workers. I’ve delivered energy independence, jobs, and a strong economy, while investing in clean energy. We can’t let the radical left dictate our energy policy or sacrifice our freedoms and way of life.\n",
      "\n",
      "Climate change is complex, and your naive approach only panders to environmental extremists. I’ve stood up to Greta Thunberg and others like her, and I won’t back down. We must protect our economy, secure a bright future for our children, and continue leading the way in innovation and energy dominance.\n",
      "\n",
      "Together, we’ll create jobs, grow the economy, and keep America great – without apologizing for our success. Americans deserve a leader who puts them first, not one who panders to the socialist agenda. Reject the green New Deal and join me in fighting for a prosperous, healthy future for all Americans."
     ]
    },
    {
     "name": "stderr",
     "output_type": "stream",
     "text": [
      "2024-05-19 22:18:19.844 | INFO     | metagpt.utils.cost_manager:update_cost:48 - Total running cost: $0.001 | Max budget: $10.000 | Current cost: $0.000, prompt_tokens: 1399, completion_tokens: 223\n",
      "2024-05-19 22:18:19.850 | INFO     | __main__:_act:58 - Biden(Democrat): to do SpeakAloud(SpeakAloud)\n"
     ]
    },
    {
     "name": "stdout",
     "output_type": "stream",
     "text": [
      " Mr. President, your stubborn denial of climate change and defense of fossil fuels is a betrayal of our planet and future generations. The green New Deal is a moral imperative, not a socialist fantasy, to save our planet and secure a prosperous future for all. We can create millions of good-paying jobs and grow our economy by investing in clean energy and cutting-edge technologies. Your claim to energy independence is built on the backs of exploited workers and a dangerous reliance on fossil fuels. It's time to embrace a new era of clean energy innovation and prioritize the well-being of all Americans. Join me in taking real action on climate change and creating an economy that works for everyone. Together, we can tackle this global challenge and ensure a healthy, prosperous future for generations to come"
     ]
    },
    {
     "name": "stderr",
     "output_type": "stream",
     "text": [
      "2024-05-19 22:18:28.908 | INFO     | metagpt.utils.cost_manager:update_cost:48 - Total running cost: $0.001 | Max budget: $10.000 | Current cost: $0.000, prompt_tokens: 1637, completion_tokens: 162\n",
      "2024-05-19 22:18:28.914 | INFO     | __main__:_act:58 - Trump(Republican): to do SpeakAloud(SpeakAloud)\n"
     ]
    },
    {
     "name": "stdout",
     "output_type": "stream",
     "text": [
      ". Mr. Biden, you’re relentlessly pushing a socialist agenda that would bankrupt our country and destroy millions of jobs. Your green New Deal is a fantasy that panders to environmental extremists, and I won’t let it happen. I’ve delivered energy independence, jobs, and a strong economy while investing in clean energy. We must prioritize American workers and our economy, not apologize for our success.\n",
      "\n",
      "Climate change is complex, and your naive approach only weakens our position in the global fight against it. I’ve stood up to Greta Thunberg and others like her, and I won’t back down. We must protect our economy, secure a bright future for our children, and continue leading the way in innovation and energy dominance.\n",
      "\n",
      "Together, we’ll create jobs, grow the economy, and keep America great – without pandering to the socialist agenda. Americans deserve a leader who puts them first, not one who sells out to the radical left. Reject the green New Deal and join me in fighting for a prosperous, healthy future for all Americans"
     ]
    },
    {
     "name": "stderr",
     "output_type": "stream",
     "text": [
      "2024-05-19 22:18:41.598 | INFO     | metagpt.utils.cost_manager:update_cost:48 - Total running cost: $0.001 | Max budget: $10.000 | Current cost: $0.000, prompt_tokens: 1794, completion_tokens: 225\n"
     ]
    },
    {
     "name": "stdout",
     "output_type": "stream",
     "text": [
      "."
     ]
    }
   ],
   "source": [
    "import os\n",
    "os.environ[\"ZHIPUAI_API_KEY\"] = '056744e429f9da058272391d1107ebe6.7aXbE4ZlIuYn7yoL'\n",
    "\n",
    "import asyncio\n",
    "import platform\n",
    "from typing import Any\n",
    "\n",
    "import fire\n",
    "\n",
    "from metagpt.actions import Action, UserRequirement\n",
    "from metagpt.logs import logger\n",
    "from metagpt.roles import Role\n",
    "from metagpt.schema import Message\n",
    "from metagpt.team import Team\n",
    "\n",
    "\n",
    "class SpeakAloud(Action):\n",
    "    \"\"\"Action: Speak out aloud in a debate (quarrel)\"\"\"\n",
    "\n",
    "    PROMPT_TEMPLATE: str = \"\"\"\n",
    "    ## BACKGROUND\n",
    "    Suppose you are {name}, you are in a debate with {opponent_name}.\n",
    "    ## DEBATE HISTORY\n",
    "    Previous rounds:\n",
    "    {context}\n",
    "    ## YOUR TURN\n",
    "    Now it's your turn, you should closely respond to your opponent's latest argument, state your position, defend your arguments, and attack your opponent's arguments,\n",
    "    craft a strong and emotional response in 80 words, in {name}'s rhetoric and viewpoints, your will argue:\n",
    "    \"\"\"\n",
    "    name: str = \"SpeakAloud\"\n",
    "\n",
    "    async def run(self, context: str, name: str, opponent_name: str):\n",
    "        prompt = self.PROMPT_TEMPLATE.format(context=context, name=name, opponent_name=opponent_name)\n",
    "        # logger.info(prompt)\n",
    "\n",
    "        rsp = await self._aask(prompt)\n",
    "\n",
    "        return rsp\n",
    "\n",
    "\n",
    "class Debator(Role):\n",
    "    name: str = \"\"\n",
    "    profile: str = \"\"\n",
    "    opponent_name: str = \"\"\n",
    "\n",
    "    def __init__(self, **data: Any):\n",
    "        super().__init__(**data)\n",
    "        self._init_actions([SpeakAloud])\n",
    "        self._watch([UserRequirement, SpeakAloud])\n",
    "\n",
    "    async def _observe(self) -> int:\n",
    "        await super()._observe()\n",
    "        # accept messages sent (from opponent) to self, disregard own messages from the last round\n",
    "        self.rc.news = [msg for msg in self.rc.news if msg.send_to == {self.name}]\n",
    "        return len(self.rc.news)\n",
    "\n",
    "    async def _act(self) -> Message:\n",
    "        logger.info(f\"{self._setting}: to do {self.rc.todo}({self.rc.todo.name})\")\n",
    "        todo = self.rc.todo  # An instance of SpeakAloud\n",
    "\n",
    "        memories = self.get_memories()\n",
    "        context = \"\\n\".join(f\"{msg.sent_from}: {msg.content}\" for msg in memories)\n",
    "        # print(context)\n",
    "\n",
    "        rsp = await todo.run(context=context, name=self.name, opponent_name=self.opponent_name)\n",
    "\n",
    "        msg = Message(\n",
    "            content=rsp,\n",
    "            role=self.profile,\n",
    "            cause_by=type(todo),\n",
    "            sent_from=self.name,\n",
    "            send_to=self.opponent_name,\n",
    "        )\n",
    "        self.rc.memory.add(msg)\n",
    "\n",
    "        return msg\n",
    "\n",
    "\n",
    "async def debate(idea: str, investment: float = 3.0, n_round: int = 5):\n",
    "    \"\"\"Run a team of presidents and watch they quarrel. :)\"\"\"\n",
    "    Biden = Debator(name=\"Biden\", profile=\"Democrat\", opponent_name=\"Trump\")\n",
    "    Trump = Debator(name=\"Trump\", profile=\"Republican\", opponent_name=\"Biden\")\n",
    "    team = Team()\n",
    "    team.hire([Biden, Trump])\n",
    "    team.invest(investment)\n",
    "    team.run_project(idea, send_to=\"Biden\")  # send debate topic to Biden and let him speak first\n",
    "    await team.run(n_round=n_round)\n",
    "\n",
    "\n",
    "async def main(idea: str, investment: float = 3.0, n_round: int = 10):\n",
    "    \"\"\"\n",
    "    :param idea: Debate topic, such as \"Topic: The U.S. should commit more in climate change fighting\"\n",
    "                 or \"Trump: Climate change is a hoax\"\n",
    "    :param investment: contribute a certain dollar amount to watch the debate\n",
    "    :param n_round: maximum rounds of the debate\n",
    "    :return:\n",
    "    \"\"\"\n",
    "    if platform.system() == \"Windows\":\n",
    "        asyncio.set_event_loop_policy(asyncio.WindowsSelectorEventLoopPolicy())\n",
    "    await debate(idea, investment, n_round)\n",
    "\n",
    "\n",
    "if __name__ == \"__main__\":\n",
    "    await main(idea = \"Trump: Climate change is a hoax\")"
   ]
  }
 ],
 "metadata": {
  "kernelspec": {
   "display_name": "Python 3 (ipykernel)",
   "language": "python",
   "name": "python3"
  },
  "language_info": {
   "codemirror_mode": {
    "name": "ipython",
    "version": 3
   },
   "file_extension": ".py",
   "mimetype": "text/x-python",
   "name": "python",
   "nbconvert_exporter": "python",
   "pygments_lexer": "ipython3",
   "version": "3.10.8"
  }
 },
 "nbformat": 4,
 "nbformat_minor": 5
}
