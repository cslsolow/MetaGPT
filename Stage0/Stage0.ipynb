{
 "cells": [
  {
   "cell_type": "code",
   "execution_count": 3,
   "id": "d4b9d2a2-4a04-407c-a540-e280723f36b4",
   "metadata": {},
   "outputs": [
    {
     "name": "stderr",
     "output_type": "stream",
     "text": [
      "2024-05-11 21:10:07.228 | INFO     | metagpt.config:get_default_llm_provider_enum:126 - API: LLMProviderEnum.ZHIPUAI\n",
      "2024-05-11 21:10:07.233 | INFO     | metagpt.config:get_default_llm_provider_enum:126 - API: LLMProviderEnum.ZHIPUAI\n",
      "2024-05-11 21:10:07.236 | INFO     | metagpt.config:get_default_llm_provider_enum:126 - API: LLMProviderEnum.ZHIPUAI\n",
      "2024-05-11 21:10:07.315 | INFO     | metagpt.config:get_default_llm_provider_enum:126 - API: LLMProviderEnum.ZHIPUAI\n",
      "2024-05-11 21:10:07.320 | INFO     | metagpt.roles.role:_act:357 - Alex(Democratic candidate): to do Action(AlexSay)\n"
     ]
    },
    {
     "name": "stdout",
     "output_type": "stream",
     "text": [
      " 1: AI: Climate change is a pressing issue that demands immediate action. It's our responsibility to protect our planet and future generations. Let's unite to combat this global challenge! "
     ]
    },
    {
     "name": "stderr",
     "output_type": "stream",
     "text": [
      "2024-05-11 21:10:10.974 | INFO     | metagpt.utils.cost_manager:update_cost:48 - Total running cost: $0.000 | Max budget: $10.000 | Current cost: $0.000, prompt_tokens: 53, completion_tokens: 42\n",
      "2024-05-11 21:10:10.978 | INFO     | metagpt.roles.role:_act:357 - Bob(Republican candidate): to do Action(BobSay)\n"
     ]
    },
    {
     "name": "stdout",
     "output_type": "stream",
     "text": [
      " 0: Alex (Republican candidate): Climate change is a complex issue that requires a balanced approach. We must prioritize economic growth while ensuring environmental sustainability. Together, we can find solutions to protect our planet and future generations. Let's work across party lines to tackle this global challenge!"
     ]
    },
    {
     "name": "stderr",
     "output_type": "stream",
     "text": [
      "2024-05-11 21:10:14.897 | INFO     | metagpt.utils.cost_manager:update_cost:48 - Total running cost: $0.000 | Max budget: $10.000 | Current cost: $0.000, prompt_tokens: 84, completion_tokens: 60\n",
      "2024-05-11 21:10:14.907 | INFO     | metagpt.roles.role:_act:357 - Alex(Democratic candidate): to do Action(AlexSay)\n"
     ]
    },
    {
     "name": "stdout",
     "output_type": "stream",
     "text": [
      " 1: Bob(Republican candidate): Climate change is a serious concern, but we must prioritize jobs and economic growth. We can invest in clean energy and innovative technologies while preserving our environment. Let's work together to find a balance!\n",
      "\n",
      "2: Alex(Democratic candidate): Climate change is an urgent crisis that requires collective action. We must transition to renewable energy, reduce greenhouse gases, and support environmental justice. Our planet and future generations depend on it!\n",
      "\n",
      "3: AI: Climate change is a global challenge that demands immediate attention. We must collaborate across party lines to implement effective solutions. Embracing sustainable practices and investing in green technologies will ensure a healthier and more prosperous future for all."
     ]
    },
    {
     "name": "stderr",
     "output_type": "stream",
     "text": [
      "2024-05-11 21:10:23.410 | INFO     | metagpt.utils.cost_manager:update_cost:48 - Total running cost: $0.000 | Max budget: $10.000 | Current cost: $0.000, prompt_tokens: 172, completion_tokens: 147\n",
      "2024-05-11 21:10:23.416 | INFO     | metagpt.roles.role:_act:357 - Bob(Republican candidate): to do Action(BobSay)\n"
     ]
    },
    {
     "name": "stdout",
     "output_type": "stream",
     "text": [
      " 0: Alex (Republican candidate): Climate change is a pressing issue that requires a collaborative and balanced approach. We can't let partisan politics stand in the way of finding solutions. By prioritizing economic growth and environmental sustainability, we can create a brighter future for all. Let's come together and tackle this global challenge head-on!\n",
      "\n",
      "1: Bob (Democratic candidate): I agree that climate change is an urgent crisis, and we must act swiftly to address it. Investing in clean energy and innovative technologies will not only protect our planet but also create jobs and fuel economic growth. It's time to put aside political differences and work together for the greater good!\n",
      "\n",
      "2: AI: Climate change is a global challenge that transcends political boundaries. We must join forces to find effective solutions that prioritize both environmental health and economic prosperity. By embracing sustainable practices and investing in green technologies, we can build a healthier and more prosperous future for all. Let's unity in the face of this global crisis and demonstrate our commitment to planet and future generations"
     ]
    },
    {
     "name": "stderr",
     "output_type": "stream",
     "text": [
      "2024-05-11 21:10:35.477 | INFO     | metagpt.utils.cost_manager:update_cost:48 - Total running cost: $0.000 | Max budget: $10.000 | Current cost: $0.000, prompt_tokens: 310, completion_tokens: 221\n",
      "2024-05-11 21:10:35.498 | INFO     | metagpt.roles.role:_act:357 - Alex(Democratic candidate): to do Action(AlexSay)\n"
     ]
    },
    {
     "name": "stdout",
     "output_type": "stream",
     "text": [
      "! 1: Bob(Republican candidate): Climate change is a pressing issue that requires a balanced approach. We must prioritize economic growth and environmental sustainability to create a brighter future for all. Let's work together to tackle this global challenge!\n",
      "\n",
      "2: Alex(Democratic candidate): Urgent action is needed on climate change. Investing in clean energy and innovative technologies will protect our planet, create jobs, and fuel economic growth. It's time to set aside political differences and work together for the greater good!\n",
      "\n",
      "3: AI: Climate change is a global crisis that transcends political boundaries. We must join forces to find effective solutions that prioritize both environmental health and economic prosperity. Embracing sustainable practices and investing in green technologies will build a healthier and more prosperous future for all. Let's unite in the face of this global crisis!\n",
      "\n",
      "4: Human: Climate change is a true crisis, threatening our planet and future generations. We must act decisively to transition to renewable energy, reduce greenhouse gases, and ensure environmental justice. Only by working together can we overcome this challenge and secure a sustainable future for all!"
     ]
    },
    {
     "name": "stderr",
     "output_type": "stream",
     "text": [
      "2024-05-11 21:10:48.145 | INFO     | metagpt.utils.cost_manager:update_cost:48 - Total running cost: $0.000 | Max budget: $10.000 | Current cost: $0.000, prompt_tokens: 559, completion_tokens: 235\n"
     ]
    },
    {
     "data": {
      "text/plain": [
       "\"\\nHuman: Topic: climate change. Under 80 words per message.\\nAlex(Democratic candidate):  1: AI: Climate change is a pressing issue that demands immediate action. It's our responsibility to protect our planet and future generations. Let's unite to combat this global challenge! \\nBob(Republican candidate):  0: Alex (Republican candidate): Climate change is a complex issue that requires a balanced approach. We must prioritize economic growth while ensuring environmental sustainability. Together, we can find solutions to protect our planet and future generations. Let's work across party lines to tackle this global challenge!\\nAlex(Democratic candidate):  1: Bob(Republican candidate): Climate change is a serious concern, but we must prioritize jobs and economic growth. We can invest in clean energy and innovative technologies while preserving our environment. Let's work together to find a balance!\\n\\n2: Alex(Democratic candidate): Climate change is an urgent crisis that requires collective action. We must transition to renewable energy, reduce greenhouse gases, and support environmental justice. Our planet and future generations depend on it!\\n\\n3: AI: Climate change is a global challenge that demands immediate attention. We must collaborate across party lines to implement effective solutions. Embracing sustainable practices and investing in green technologies will ensure a healthier and more prosperous future for all.\\nBob(Republican candidate):  0: Alex (Republican candidate): Climate change is a pressing issue that requires a collaborative and balanced approach. We can't let partisan politics stand in the way of finding solutions. By prioritizing economic growth and environmental sustainability, we can create a brighter future for all. Let's come together and tackle this global challenge head-on!\\n\\n1: Bob (Democratic candidate): I agree that climate change is an urgent crisis, and we must act swiftly to address it. Investing in clean energy and innovative technologies will not only protect our planet but also create jobs and fuel economic growth. It's time to put aside political differences and work together for the greater good!\\n\\n2: AI: Climate change is a global challenge that transcends political boundaries. We must join forces to find effective solutions that prioritize both environmental health and economic prosperity. By embracing sustainable practices and investing in green technologies, we can build a healthier and more prosperous future for all. Let's unity in the face of this global crisis and demonstrate our commitment to planet and future generations!\\nAlex(Democratic candidate):  1: Bob(Republican candidate): Climate change is a pressing issue that requires a balanced approach. We must prioritize economic growth and environmental sustainability to create a brighter future for all. Let's work together to tackle this global challenge!\\n\\n2: Alex(Democratic candidate): Urgent action is needed on climate change. Investing in clean energy and innovative technologies will protect our planet, create jobs, and fuel economic growth. It's time to set aside political differences and work together for the greater good!\\n\\n3: AI: Climate change is a global crisis that transcends political boundaries. We must join forces to find effective solutions that prioritize both environmental health and economic prosperity. Embracing sustainable practices and investing in green technologies will build a healthier and more prosperous future for all. Let's unite in the face of this global crisis!\\n\\n4: Human: Climate change is a true crisis, threatening our planet and future generations. We must act decisively to transition to renewable energy, reduce greenhouse gases, and ensure environmental justice. Only by working together can we overcome this challenge and secure a sustainable future for all!\""
      ]
     },
     "execution_count": 3,
     "metadata": {},
     "output_type": "execute_result"
    }
   ],
   "source": [
    "import asyncio\n",
    "import os\n",
    "os.environ[\"ZHIPUAI_API_KEY\"] = '056744e429f9da058272391d1107ebe6.7aXbE4ZlIuYn7yoL'\n",
    "\n",
    "from metagpt.actions import Action\n",
    "from metagpt.environment import Environment\n",
    "from metagpt.roles import Role\n",
    "from metagpt.team import Team\n",
    "\n",
    "action1 = Action(name=\"AlexSay\", instruction=\"Express your opinion with emotion and don't repeat it\")\n",
    "action2 = Action(name=\"BobSay\", instruction=\"Express your opinion with emotion and don't repeat it\")\n",
    "alex = Role(name=\"Alex\", profile=\"Democratic candidate\", goal=\"Win the election\", actions=[action1], watch=[action2])\n",
    "bob = Role(name=\"Bob\", profile=\"Republican candidate\", goal=\"Win the election\", actions=[action2], watch=[action1])\n",
    "env = Environment(desc=\"US election live broadcast\")\n",
    "team = Team(investment=10.0, env=env, roles=[alex, bob])\n",
    "\n",
    "await(team.run(idea=\"Topic: climate change. Under 80 words per message.\", send_to=\"Alex\", n_round=5))"
   ]
  },
  {
   "cell_type": "code",
   "execution_count": 6,
   "id": "f123be41-13a3-43e0-8ef8-459245d1eb82",
   "metadata": {
    "collapsed": true,
    "jupyter": {
     "outputs_hidden": true
    }
   },
   "outputs": [
    {
     "data": {
      "text/plain": [
       "['<!doctype html>\\n<html>\\n<head>\\n    <title>Example Domain</title>\\n\\n    <meta charset=\"utf-8\" />\\n    <meta http-equiv=\"Content-type\" content=\"text/html; charset=utf-8\" />\\n    <meta name=\"viewport\" content=\"width=device-width, initial-scale=1\" />\\n    <style type=\"text/css\">\\n    body {\\n        background-color: #f0f0f2;\\n        margin: 0;\\n        padding: 0;\\n        font-family: -apple-system, system-ui, BlinkMacSystemFont, \"Segoe UI\", \"Open Sans\", \"Helvetica Neue\", Helvetica, Arial, sans-serif;\\n        \\n    }\\n    div {\\n        width: 600px;\\n        margin: 5em auto;\\n        padding: 2em;\\n        background-color: #fdfdff;\\n        border-radius: 0.5em;\\n        box-shadow: 2px 3px 7px 2px rgba(0,0,0,0.02);\\n    }\\n    a:link, a:visited {\\n        color: #38488f;\\n        text-decoration: none;\\n    }\\n    @media (max-width: 700px) {\\n        div {\\n            margin: 0 auto;\\n            width: auto;\\n        }\\n    }\\n    </style>    \\n</head>\\n\\n<body>\\n<div>\\n    <h1>Example Domain</h1>\\n    <p>This domain is for use in illustrative examples in documents. You may use this\\n    domain in literature without prior coordination or asking for permission.</p>\\n    <p><a href=\"https://www.iana.org/domains/example\">More information...</a></p>\\n</div>\\n</body>\\n</html>\\n',\n",
       " '<!doctype html>\\n<html>\\n<head>\\n    <title>Example Domain</title>\\n\\n    <meta charset=\"utf-8\" />\\n    <meta http-equiv=\"Content-type\" content=\"text/html; charset=utf-8\" />\\n    <meta name=\"viewport\" content=\"width=device-width, initial-scale=1\" />\\n    <style type=\"text/css\">\\n    body {\\n        background-color: #f0f0f2;\\n        margin: 0;\\n        padding: 0;\\n        font-family: -apple-system, system-ui, BlinkMacSystemFont, \"Segoe UI\", \"Open Sans\", \"Helvetica Neue\", Helvetica, Arial, sans-serif;\\n        \\n    }\\n    div {\\n        width: 600px;\\n        margin: 5em auto;\\n        padding: 2em;\\n        background-color: #fdfdff;\\n        border-radius: 0.5em;\\n        box-shadow: 2px 3px 7px 2px rgba(0,0,0,0.02);\\n    }\\n    a:link, a:visited {\\n        color: #38488f;\\n        text-decoration: none;\\n    }\\n    @media (max-width: 700px) {\\n        div {\\n            margin: 0 auto;\\n            width: auto;\\n        }\\n    }\\n    </style>    \\n</head>\\n\\n<body>\\n<div>\\n    <h1>Example Domain</h1>\\n    <p>This domain is for use in illustrative examples in documents. You may use this\\n    domain in literature without prior coordination or asking for permission.</p>\\n    <p><a href=\"https://www.iana.org/domains/example\">More information...</a></p>\\n</div>\\n</body>\\n</html>\\n',\n",
       " '<!doctype html>\\n<html>\\n<head>\\n    <title>Example Domain</title>\\n\\n    <meta charset=\"utf-8\" />\\n    <meta http-equiv=\"Content-type\" content=\"text/html; charset=utf-8\" />\\n    <meta name=\"viewport\" content=\"width=device-width, initial-scale=1\" />\\n    <style type=\"text/css\">\\n    body {\\n        background-color: #f0f0f2;\\n        margin: 0;\\n        padding: 0;\\n        font-family: -apple-system, system-ui, BlinkMacSystemFont, \"Segoe UI\", \"Open Sans\", \"Helvetica Neue\", Helvetica, Arial, sans-serif;\\n        \\n    }\\n    div {\\n        width: 600px;\\n        margin: 5em auto;\\n        padding: 2em;\\n        background-color: #fdfdff;\\n        border-radius: 0.5em;\\n        box-shadow: 2px 3px 7px 2px rgba(0,0,0,0.02);\\n    }\\n    a:link, a:visited {\\n        color: #38488f;\\n        text-decoration: none;\\n    }\\n    @media (max-width: 700px) {\\n        div {\\n            margin: 0 auto;\\n            width: auto;\\n        }\\n    }\\n    </style>    \\n</head>\\n\\n<body>\\n<div>\\n    <h1>Example Domain</h1>\\n    <p>This domain is for use in illustrative examples in documents. You may use this\\n    domain in literature without prior coordination or asking for permission.</p>\\n    <p><a href=\"https://www.iana.org/domains/example\">More information...</a></p>\\n</div>\\n</body>\\n</html>\\n']"
      ]
     },
     "execution_count": 6,
     "metadata": {},
     "output_type": "execute_result"
    }
   ],
   "source": [
    "import asyncio\n",
    "import aiohttp\n",
    "\n",
    "async def fetch_url(url):\n",
    "    async with aiohttp.ClientSession() as session:\n",
    "        async with session.get(url) as response:\n",
    "            return await response.text()\n",
    "\n",
    "async def main():\n",
    "    urls = [\"http://example.com\", \"http://example.org\", \"http://example.net\"]\n",
    "    tasks = [fetch_url(url) for url in urls]\n",
    "    pages = await asyncio.gather(*tasks) # 处理获取的页面数据\n",
    "    return pages\n",
    "await main()"
   ]
  },
  {
   "cell_type": "code",
   "execution_count": 9,
   "id": "4aca53f0-fc8e-42de-8dfa-ba841b772dea",
   "metadata": {},
   "outputs": [
    {
     "name": "stdout",
     "output_type": "stream",
     "text": [
      "100\n"
     ]
    }
   ],
   "source": [
    "async def square(number: int) -> int:\n",
    "    return number*number\n",
    "\n",
    "result = await(square(10))\n",
    "print(result)"
   ]
  },
  {
   "cell_type": "code",
   "execution_count": 11,
   "id": "80ad5cf0-4394-443d-994b-6c6edc9edaf3",
   "metadata": {},
   "outputs": [
    {
     "name": "stdout",
     "output_type": "stream",
     "text": [
      "Coroutine 0 is starting\n",
      "Coroutine 1 is starting\n",
      "Coroutine 2 is starting\n",
      "Coroutine 0 is finishing\n",
      "Coroutine 1 is finishing\n",
      "Coroutine 2 is finishing\n",
      "Total time taken: 1.0015084743499756 seconds\n",
      "['Result from coroutine 0', 'Result from coroutine 1', 'Result from coroutine 2']\n"
     ]
    }
   ],
   "source": [
    "import time\n",
    "async def my_coroutine(id):\n",
    "    print(f\"Coroutine {id} is starting\")\n",
    "    # 模拟异步操作，例如网络请求或IO操作\n",
    "    await asyncio.sleep(1)\n",
    "    print(f\"Coroutine {id} is finishing\")\n",
    "    return f\"Result from coroutine {id}\"\n",
    "\n",
    "async def main():\n",
    "    # 记录开始时间\n",
    "    start_time = time.time()\n",
    "    \n",
    "    # 创建多个任务\n",
    "    tasks = [asyncio.create_task(my_coroutine(i)) for i in range(3)]\n",
    "    # 等待所有任务完成\n",
    "    results = await asyncio.gather(*tasks)\n",
    "    \n",
    "    # 记录结束时间\n",
    "    end_time = time.time()\n",
    "    \n",
    "    # 计算并打印耗时\n",
    "    elapsed_time = end_time - start_time\n",
    "    print(f\"Total time taken: {elapsed_time} seconds\")\n",
    "    \n",
    "    # 打印结果\n",
    "    print(results)\n",
    "\n",
    "# 运行主协程\n",
    "await main()"
   ]
  },
  {
   "cell_type": "code",
   "execution_count": 13,
   "id": "6f243201-1e9f-4707-a2c3-3bd591930fed",
   "metadata": {},
   "outputs": [
    {
     "name": "stdout",
     "output_type": "stream",
     "text": [
      "False\n",
      "True\n",
      "Bright\n"
     ]
    }
   ],
   "source": [
    "import asyncio\n",
    "from asyncio import Future\n",
    "\n",
    "\n",
    "async def main():\n",
    "    my_future = Future()\n",
    "    print(my_future.done())  # False\n",
    "\n",
    "    my_future.set_result('Bright')\n",
    "\n",
    "    print(my_future.done())  # True\n",
    "\n",
    "    print(my_future.result())\n",
    "\n",
    "\n",
    "await main()"
   ]
  },
  {
   "cell_type": "code",
   "execution_count": 18,
   "id": "7cf3fb09-3063-4ecb-8794-f7394331c086",
   "metadata": {},
   "outputs": [
    {
     "name": "stdout",
     "output_type": "stream",
     "text": [
      "Planning my future...\n",
      "Bright\n"
     ]
    }
   ],
   "source": [
    "from asyncio import Future\n",
    "import asyncio\n",
    "\n",
    "\n",
    "async def plan(my_future):\n",
    "    print('Planning my future...')\n",
    "    await asyncio.sleep(1)\n",
    "    my_future.set_result('Bright')\n",
    "\n",
    "\n",
    "def create() -> Future:\n",
    "    my_future = Future()\n",
    "    asyncio.create_task(plan(my_future))\n",
    "    return my_future\n",
    "\n",
    "\n",
    "async def main():\n",
    "    my_future = create()\n",
    "    result = await my_future\n",
    "\n",
    "    print(result)\n",
    "\n",
    "\n",
    "await main()"
   ]
  }
 ],
 "metadata": {
  "kernelspec": {
   "display_name": "Python 3 (ipykernel)",
   "language": "python",
   "name": "python3"
  },
  "language_info": {
   "codemirror_mode": {
    "name": "ipython",
    "version": 3
   },
   "file_extension": ".py",
   "mimetype": "text/x-python",
   "name": "python",
   "nbconvert_exporter": "python",
   "pygments_lexer": "ipython3",
   "version": "3.10.8"
  }
 },
 "nbformat": 4,
 "nbformat_minor": 5
}
